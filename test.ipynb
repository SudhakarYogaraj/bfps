{
 "metadata": {
  "name": "",
  "signature": "sha256:70c4b065d524fe79b51e885d5e77aec8982c6ae0996146ba76aa979790c214b7"
 },
 "nbformat": 3,
 "nbformat_minor": 0,
 "worksheets": [
  {
   "cells": [
    {
     "cell_type": "code",
     "collapsed": false,
     "input": [
      "import numpy as np\n",
      "import subprocess\n",
      "import pyfftw"
     ],
     "language": "python",
     "metadata": {},
     "outputs": [],
     "prompt_number": 1
    },
    {
     "cell_type": "code",
     "collapsed": false,
     "input": [
      "def generate_data_3D(\n",
      "        n,\n",
      "        dtype = np.complex128,\n",
      "        p = 1.5):\n",
      "    \"\"\"\n",
      "    generate something that has the proper shape\n",
      "    \"\"\"\n",
      "    assert(n % 2 == 0)\n",
      "    a = np.zeros((n, n, n/2+1), dtype = dtype)\n",
      "    a[:] = np.random.randn(*a.shape) + 1j*np.random.randn(*a.shape)\n",
      "    k, j, i = np.mgrid[-n/2+1:n/2+1, -n/2+1:n/2+1, 0:n/2+1]\n",
      "    k = (k**2 + j**2 + i**2)**.5\n",
      "    k = np.roll(k, n//2+1, axis = 0)\n",
      "    k = np.roll(k, n//2+1, axis = 1)\n",
      "    a /= k**p\n",
      "    a[0, :, :] = 0\n",
      "    a[:, 0, :] = 0\n",
      "    a[:, :, 0] = 0\n",
      "    ii = np.where(k == 0)\n",
      "    a[ii] = 0\n",
      "    ii = np.where(k > n/3)\n",
      "    a[ii] = 0\n",
      "    return a\n",
      "\n",
      "n = 32\n",
      "\n",
      "Kdata0 = generate_data_3D(n, p = 2).astype(np.complex64)\n",
      "Kdata0.tofile(\"Kdata0\")"
     ],
     "language": "python",
     "metadata": {},
     "outputs": [
      {
       "output_type": "stream",
       "stream": "stderr",
       "text": [
        "-c:15: RuntimeWarning: divide by zero encountered in divide\n"
       ]
      }
     ],
     "prompt_number": 2
    },
    {
     "cell_type": "code",
     "collapsed": false,
     "input": [
      "def compute_cpp_data(\n",
      "        branch = None):\n",
      "    if not (type(branch) == type(None)):\n",
      "        subprocess.call(['git', 'checkout', branch])\n",
      "    if subprocess.call(['make', 'main_fluid_solver.elf']) == 0:\n",
      "        subprocess.call(['time',\n",
      "                         'mpirun',\n",
      "                         '-np',\n",
      "                         '4',\n",
      "                         './main_fluid_solver.elf'])\n",
      "        return np.fromfile('Kdata1')\n",
      "    else:\n",
      "        print ('compilation error')\n",
      "        return None\n",
      "\n",
      "Kdata1 = compute_cpp_data()"
     ],
     "language": "python",
     "metadata": {},
     "outputs": [],
     "prompt_number": 4
    },
    {
     "cell_type": "code",
     "collapsed": true,
     "input": [
      "distance = np.max(np.abs(Rdata_py - Rdata), axis = (1, 2, 3, 4))\n",
      "print(np.max(distance))\n",
      "if np.max(distance) > 1e-5:\n",
      "    ax = plt.figure(figsize=(6,2)).add_subplot(111)\n",
      "    ax.plot(distance)\n",
      "    i0 = np.random.randint(8)\n",
      "    i1 = np.random.randint(8)\n",
      "    i2 = np.random.randint(8)\n",
      "    z = cm.grid3D_to_zindex(np.array([i0, i1, i2]))\n",
      "    #z = 0\n",
      "    print(cm.zindex_to_grid3D(z))\n",
      "    s = np.max(np.abs(Rdata_py[None, z, :, :, :, 1] - Rdata[..., 1]),\n",
      "               axis = (1, 2, 3))\n",
      "    z1 = np.argmin(s)\n",
      "    print(z, z1, s[z1])\n",
      "        #print(Rdata[z1] - Rdata_py[z1])\n",
      "    ta0 = Rdata_py.ravel()\n",
      "    ta1 = Rdata.ravel()\n",
      "    print (Rdata_py[254:259, 7, 4, 3, 1])\n",
      "    print (Rdata[254:259, 7, 4, 3, 1])\n",
      "    print (ta0[ta0.shape[0]/2-1:ta0.shape[0]/2+7])\n",
      "    print (ta1[ta1.shape[0]/2-1:ta1.shape[0]/2+7])\n",
      "else:\n",
      "    print('distance is small')\n",
      "print(np.max(np.abs(Rdata)))"
     ],
     "language": "python",
     "metadata": {},
     "outputs": [
      {
       "output_type": "stream",
       "stream": "stdout",
       "text": [
        "1.90735e-06\n",
        "distance is small\n",
        "15.316\n"
       ]
      }
     ],
     "prompt_number": 7
    },
    {
     "cell_type": "code",
     "collapsed": false,
     "input": [],
     "language": "python",
     "metadata": {},
     "outputs": []
    }
   ],
   "metadata": {}
  }
 ]
}