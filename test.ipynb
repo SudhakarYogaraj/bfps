{
 "metadata": {
  "name": "",
  "signature": "sha256:81d6e5b84639491eb537b89cba2864168127d437faeb5298d4c8e2dc26ef2d12"
 },
 "nbformat": 3,
 "nbformat_minor": 0,
 "worksheets": [
  {
   "cells": [
    {
     "cell_type": "code",
     "collapsed": false,
     "input": [
      "import numpy as np\n",
      "import subprocess\n",
      "%matplotlib nbagg\n",
      "import matplotlib.pyplot as plt\n",
      "import pyfftw\n",
      "from mayavi import mlab"
     ],
     "language": "python",
     "metadata": {},
     "outputs": [
      {
       "output_type": "stream",
       "stream": "stderr",
       "text": [
        "WARNING:traits.has_traits:DEPRECATED: traits.has_traits.wrapped_class, 'the 'implements' class advisor has been deprecated. Use the 'provides' class decorator.\n"
       ]
      }
     ],
     "prompt_number": 2
    },
    {
     "cell_type": "code",
     "collapsed": false,
     "input": [
      "def generate_data_3D(\n",
      "        n,\n",
      "        dtype = np.complex128,\n",
      "        p = 1.5):\n",
      "    \"\"\"\n",
      "    generate something that has the proper shape\n",
      "    \"\"\"\n",
      "    assert(n % 2 == 0)\n",
      "    a = np.zeros((n, n, n/2+1), dtype = dtype)\n",
      "    a[:] = np.random.randn(*a.shape) + 1j*np.random.randn(*a.shape)\n",
      "    k, j, i = np.mgrid[-n/2+1:n/2+1, -n/2+1:n/2+1, 0:n/2+1]\n",
      "    k = (k**2 + j**2 + i**2)**.5\n",
      "    k = np.roll(k, n//2+1, axis = 0)\n",
      "    k = np.roll(k, n//2+1, axis = 1)\n",
      "    a /= k**p\n",
      "    a[0, :, :] = 0\n",
      "    a[:, 0, :] = 0\n",
      "    a[:, :, 0] = 0\n",
      "    ii = np.where(k == 0)\n",
      "    a[ii] = 0\n",
      "    ii = np.where(k > n/3)\n",
      "    a[ii] = 0\n",
      "    return a\n",
      "\n",
      "n = 32\n",
      "N = 128\n",
      "\n",
      "Kdata0 = generate_data_3D(n, p = 2).astype(np.complex64)\n",
      "Kdata1 = generate_data_3D(n, p = 2).astype(np.complex64)\n",
      "Kdata0.T.copy().tofile(\"Kdata0\")\n",
      "Kdata1.T.copy().tofile(\"Kdata1\")"
     ],
     "language": "python",
     "metadata": {},
     "outputs": [
      {
       "output_type": "stream",
       "stream": "stderr",
       "text": [
        "-c:15: RuntimeWarning: divide by zero encountered in divide\n"
       ]
      }
     ],
     "prompt_number": 3
    },
    {
     "cell_type": "code",
     "collapsed": false,
     "input": [
      "def padd_with_zeros(\n",
      "        a,\n",
      "        n,\n",
      "        odtype = None):\n",
      "    if (type(odtype) == type(None)):\n",
      "        odtype = a.dtype\n",
      "    assert(a.shape[0] <= n)\n",
      "    b = np.zeros((n, n, n/2 + 1), dtype = odtype)\n",
      "    m = a.shape[0]\n",
      "    b[     :m/2,      :m/2, :m/2+1] = a[     :m/2,      :m/2, :m/2+1]\n",
      "    b[     :m/2, n-m/2:   , :m/2+1] = a[     :m/2, m-m/2:   , :m/2+1]\n",
      "    b[n-m/2:   ,      :m/2, :m/2+1] = a[m-m/2:   ,      :m/2, :m/2+1]\n",
      "    b[n-m/2:   , n-m/2:   , :m/2+1] = a[m-m/2:   , m-m/2:   , :m/2+1]\n",
      "    return b\n",
      "\n",
      "def transform_py(bla):\n",
      "    b = padd_with_zeros(bla, N)\n",
      "    c = np.zeros((N, N, N), np.float32)\n",
      "    t = pyfftw.FFTW(\n",
      "        b, c,\n",
      "        axes = (0, 1, 2),\n",
      "        direction = 'FFTW_BACKWARD',\n",
      "        flags = ('FFTW_ESTIMATE',),\n",
      "        threads = 2)\n",
      "    t.execute()\n",
      "    return c\n",
      "\n",
      "import chichi_misc as cm\n",
      "\n",
      "def array_to_8cubes(\n",
      "    a,\n",
      "    odtype = None):\n",
      "    assert(len(a.shape) >= 3)\n",
      "    assert((a.shape[0] % 8 == 0) and\n",
      "           (a.shape[1] % 8 == 0) and\n",
      "           (a.shape[2] % 8 == 0))\n",
      "    if type(odtype) == type(None):\n",
      "        odtype = a.dtype\n",
      "    c = np.zeros(\n",
      "        ((((a.shape[0] // 8)*(a.shape[1] // 8)*(a.shape[2] // 8)),) +\n",
      "         (8, 8, 8) +\n",
      "         a.shape[3:]),\n",
      "        dtype = odtype)\n",
      "    bk, bj, bi = np.mgrid[0:a.shape[0]//8,\n",
      "                          0:a.shape[1]//8,\n",
      "                          0:a.shape[2]//8]\n",
      "    bindices = np.array([bi, bj, bk])\n",
      "    cindices = cm.grid3D_to_zindex(bindices)\n",
      "    plist = []\n",
      "    zlist = []\n",
      "    for k in range(a.shape[0]//8):\n",
      "        for j in range(a.shape[1]//8):\n",
      "            for i in range(a.shape[2]//8):\n",
      "                z = cm.grid3D_to_zindex(np.array([k, j, i]))\n",
      "                c[z] = a[8*k:8*(k+1), 8*j:8*(j+1), 8*i:8*(i+1)]\n",
      "                plist.append([i, j, k])\n",
      "                zlist.append(z)\n",
      "    plist = np.array(plist)\n",
      "    zlist = np.array(zlist)\n",
      "    i = np.argsort(zlist)\n",
      "    #for p in range(plist.shape[0]):\n",
      "    #    print zlist[p], plist[p]\n",
      "#     for tk in range(8):\n",
      "#         for tj in range(8):\n",
      "#             for ti in range(8):\n",
      "#                 c[cindices, tk, tj, ti] = \\\n",
      "#                     a[8*bk + tk, 8*bj + tj, 8*bi + ti]\n",
      "    return c, zlist[i], plist[i]\n",
      "\n",
      "d0 = transform_py(Kdata0)\n",
      "d1 = transform_py(Kdata1)\n",
      "\n",
      "Rdata_py_tmp = np.array([d0, d1]).transpose((1, 2, 3, 0))\n",
      "\n",
      "Rdata_py, zlist, plist = array_to_8cubes(Rdata_py_tmp)\n",
      "\n",
      "#mlab.plot3d(plist[:512, 0], plist[:512, 1], plist[:512, 2], zlist[:512])\n",
      "i0 = np.random.randint(16)\n",
      "i1 = np.random.randint(16)\n",
      "i2 = np.random.randint(16)\n",
      "z = cm.grid3D_to_zindex(np.array([i0, i1, i2]))\n",
      "mlab.contour3d(Rdata_py[z, :, :, :, 0], color = (1, 0, 0))\n",
      "mlab.contour3d(Rdata_py_tmp[i0*8:i0*8 + 8, i1*8:i1*8+8, i2*8:i2*8+8, 0],\n",
      "               color = (0, 0, 1))\n",
      "mlab.show()"
     ],
     "language": "python",
     "metadata": {},
     "outputs": [],
     "prompt_number": 94
    },
    {
     "cell_type": "code",
     "collapsed": false,
     "input": [
      "subprocess.call(['rm', 'Rdata'])\n",
      "if subprocess.call(['make', 'full']) == 0:\n",
      "    subprocess.call(['mpirun.mpich',\n",
      "                     '-np',\n",
      "                     '1',\n",
      "                     './full',\n",
      "                     '{0}'.format(n/2+1),\n",
      "                     '{0}'.format(n),\n",
      "                     '{0}'.format(n),\n",
      "                     '{0}'.format(N),\n",
      "                     '{0}'.format(N),\n",
      "                     '{0}'.format(N)])\n",
      "    Rdata = np.fromfile(\n",
      "        \"Rdata\",\n",
      "        dtype = np.float32).reshape(-1, 8, 8, 8, 2)\n",
      "else:\n",
      "    print ('compilation error')"
     ],
     "language": "python",
     "metadata": {},
     "outputs": [],
     "prompt_number": 110
    },
    {
     "cell_type": "code",
     "collapsed": false,
     "input": [
      "print(np.max(np.abs(Rdata_py - Rdata)))\n",
      "i0 = np.random.randint(16)\n",
      "i1 = np.random.randint(16)\n",
      "i2 = np.random.randint(16)\n",
      "z = cm.grid3D_to_zindex(np.array([i0, i1, i2]))\n",
      "#z = 203\n",
      "print cm.zindex_to_grid3D(z)\n",
      "s = np.sum(np.abs(Rdata_py[None, z, :, :, :, 0] - Rdata[..., 0]),\n",
      "           axis = (1, 2, 3))\n",
      "z1 = np.argmin(s)\n",
      "print z, z1, s[z1]"
     ],
     "language": "python",
     "metadata": {},
     "outputs": [
      {
       "output_type": "stream",
       "stream": "stdout",
       "text": [
        "2.86102e-06\n",
        "[4 0 1]\n",
        "68 68 0.0\n"
       ]
      }
     ],
     "prompt_number": 111
    },
    {
     "cell_type": "code",
     "collapsed": false,
     "input": [
      "i0 = np.random.randint(16)\n",
      "i1 = np.random.randint(16)\n",
      "i2 = np.random.randint(16)\n",
      "z = cm.grid3D_to_zindex(np.array([i0, i1, i2]))\n",
      "mlab.contour3d(Rdata_py[z, :, :, :, 0],\n",
      "               color = (0, 1, 0))\n",
      "mlab.contour3d(Rdata_py_tmp[i0*8:i0*8 + 8,\n",
      "                            i1*8:i1*8 + 8,\n",
      "                            i2*8:i2*8 + 8, 0],\n",
      "               color = (0, 0, 1))\n",
      "mlab.contour3d(Rdata[z, :, :, :, 0], color = (1, 0, 0))\n",
      "mlab.show()"
     ],
     "language": "python",
     "metadata": {},
     "outputs": [],
     "prompt_number": 112
    },
    {
     "cell_type": "code",
     "collapsed": false,
     "input": [],
     "language": "python",
     "metadata": {},
     "outputs": []
    }
   ],
   "metadata": {}
  }
 ]
}