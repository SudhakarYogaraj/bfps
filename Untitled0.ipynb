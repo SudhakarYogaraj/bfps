{
 "metadata": {
  "name": "",
  "signature": "sha256:6b33f3be6efbfc80ed54eba7b87486d27859168e58fd1db5178b0b63e83e135d"
 },
 "nbformat": 3,
 "nbformat_minor": 0,
 "worksheets": [
  {
   "cells": [
    {
     "cell_type": "code",
     "collapsed": false,
     "input": [
      "import numpy as np"
     ],
     "language": "python",
     "metadata": {},
     "outputs": [],
     "prompt_number": 1
    },
    {
     "cell_type": "code",
     "collapsed": false,
     "input": [
      "def generate_data(\n",
      "        n, m,\n",
      "        dtype = np.complex128,\n",
      "        p = 1.5):\n",
      "    \"\"\"\n",
      "    generate something that has the proper shape\n",
      "    \"\"\"\n",
      "    assert(m % 2 == 0)\n",
      "    a = np.zeros((n, m/2+1), dtype = dtype)\n",
      "    a[:] = np.random.randn(*a.shape) + 1j*np.random.randn(*a.shape)\n",
      "    j, i = np.mgrid[0:n, 0:m/2+1]\n",
      "    a /= (j**2 + i**2)**(p/2)\n",
      "    a[0, 0] = 0.0\n",
      "    return a\n",
      "\n",
      "n0 = 48\n",
      "n1 = 32\n",
      "kbla = generate_data(n0, n1, p = 1.25)\n",
      "bla = np.fft.irfft2(kbla).astype(np.float32)\n",
      "print (bla.shape, bla.dtype)\n",
      "bla.tofile(\"data0\")"
     ],
     "language": "python",
     "metadata": {},
     "outputs": [
      {
       "output_type": "stream",
       "stream": "stdout",
       "text": [
        "(48, 32) float32\n"
       ]
      }
     ],
     "prompt_number": 18
    },
    {
     "cell_type": "code",
     "collapsed": false,
     "input": [
      "bla0 = np.fromfile(\"data0\", dtype = np.float32).reshape(n0, n1)\n",
      "bla1 = np.fromfile(\"data1\", dtype = np.float32).reshape(n1, n0)\n",
      "print (np.average(np.abs(bla0.T - bla1)))"
     ],
     "language": "python",
     "metadata": {},
     "outputs": [
      {
       "output_type": "stream",
       "stream": "stdout",
       "text": [
        "0.0\n"
       ]
      }
     ],
     "prompt_number": 22
    },
    {
     "cell_type": "code",
     "collapsed": false,
     "input": [
      "\n",
      "bla = np.random.randn(32, 24, 48).astype(np.float32)\n",
      "bla.tofile(\"data0\")"
     ],
     "language": "python",
     "metadata": {},
     "outputs": [],
     "prompt_number": 23
    },
    {
     "cell_type": "code",
     "collapsed": false,
     "input": [
      "bla0 = np.fromfile(\"data0\", dtype = np.float32).reshape(32, 24, 48)\n",
      "bla1 = np.fromfile(\"data1\", dtype = np.float32).reshape(48, 24, 32)\n",
      "print (np.average(np.abs(bla0.T - bla1)))"
     ],
     "language": "python",
     "metadata": {},
     "outputs": [
      {
       "output_type": "stream",
       "stream": "stdout",
       "text": [
        "0.0\n"
       ]
      }
     ],
     "prompt_number": 25
    },
    {
     "cell_type": "code",
     "collapsed": false,
     "input": [],
     "language": "python",
     "metadata": {},
     "outputs": []
    }
   ],
   "metadata": {}
  }
 ]
}