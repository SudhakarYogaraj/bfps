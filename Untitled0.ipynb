{
 "metadata": {
  "name": "",
  "signature": "sha256:baa2ddd32ee7d0895cc9f78482de6aba8c9f64e3a4101edf06b56cee165b81f2"
 },
 "nbformat": 3,
 "nbformat_minor": 0,
 "worksheets": [
  {
   "cells": [
    {
     "cell_type": "code",
     "collapsed": false,
     "input": [
      "import numpy as np\n",
      "import subprocess\n",
      "%matplotlib nbagg\n",
      "import matplotlib.pyplot as plt"
     ],
     "language": "python",
     "metadata": {},
     "outputs": [],
     "prompt_number": 96
    },
    {
     "cell_type": "code",
     "collapsed": false,
     "input": [
      "def generate_data_3D(\n",
      "        n,\n",
      "        dtype = np.complex128,\n",
      "        p = 1.5):\n",
      "    \"\"\"\n",
      "    generate something that has the proper shape\n",
      "    \"\"\"\n",
      "    assert(n % 2 == 0)\n",
      "    a = np.zeros((n, n, n/2+1), dtype = dtype)\n",
      "    a[:] = np.random.randn(*a.shape) + 1j*np.random.randn(*a.shape)\n",
      "    k, j, i = np.mgrid[-n/2+1:n/2+1, -n/2+1:n/2+1, 0:n/2+1]\n",
      "    k = (k**2 + j**2 + i**2)**.5\n",
      "    k = np.roll(k, n//2+1, axis = 0)\n",
      "    k = np.roll(k, n//2+1, axis = 1)\n",
      "    a /= k**p\n",
      "    a[0, :, :] = 0\n",
      "    a[:, 0, :] = 0\n",
      "    a[:, :, 0] = 0\n",
      "    ii = np.where(k == 0)\n",
      "    a[ii] = 0\n",
      "    ii = np.where(k > n/3)\n",
      "    a[ii] = 0\n",
      "    return a\n",
      "\n",
      "bla = generate_data_3D(32, p = 2)\n",
      "bla[:] = 0\n",
      "bla[1, 1, 0] = 1\n",
      "bla[1, 0, 1] = 1\n",
      "bla[0, 1, 1] = 1\n",
      "print (bla.shape)\n",
      "bla.tofile(\"data0c\")"
     ],
     "language": "python",
     "metadata": {},
     "outputs": [
      {
       "output_type": "stream",
       "stream": "stdout",
       "text": [
        "(32, 32, 17)\n"
       ]
      }
     ],
     "prompt_number": 169
    },
    {
     "cell_type": "code",
     "collapsed": false,
     "input": [
      "plt.close('all')\n",
      "subprocess.call(['rm', 'data0r', 'data1r'])\n",
      "if subprocess.call(['make', 'resize']) == 0:\n",
      "    subprocess.call(['mpirun.mpich',\n",
      "                     '-np',\n",
      "                     '2',\n",
      "                     './resize',\n",
      "                     '{0}'.format(bla.shape[0]),\n",
      "                     '{0}'.format(bla.shape[1]),\n",
      "                     '{0}'.format((bla.shape[2]-1)*2)])\n",
      "    bla1 = np.fromfile(\n",
      "        \"data0r\",\n",
      "        dtype = np.float32).reshape(bla.shape[0],\n",
      "                                    bla.shape[1],\n",
      "                                    (bla.shape[2]-1)*2)\n",
      "    ax = plt.figure(figsize=(6,3)).add_axes([.0, .0, .5, 1.])\n",
      "    ax.set_axis_off()\n",
      "    ax.imshow(bla1[:,0],\n",
      "              interpolation = 'none',\n",
      "              extent = [.0, 1., 1., 0.])\n",
      "    bla1 = np.fromfile(\n",
      "        \"data1r\",\n",
      "        dtype = np.float32).reshape(bla.shape[0]*2,\n",
      "                                    bla.shape[1]*2,\n",
      "                                    (bla.shape[2]-1)*4)\n",
      "    ax = plt.gcf().add_axes([.5, .0, .5, 1.])\n",
      "    ax.set_axis_off()\n",
      "    ax.imshow(bla1[:,0],\n",
      "              interpolation = 'none',\n",
      "              extent = [.0, 1., 1., 0.])\n",
      "else:\n",
      "    print 'compilation error'"
     ],
     "language": "python",
     "metadata": {},
     "outputs": [
      {
       "ename": "IOError",
       "evalue": "[Errno 2] No such file or directory: 'data0r'",
       "output_type": "pyerr",
       "traceback": [
        "\u001b[1;31m---------------------------------------------------------------------------\u001b[0m\n\u001b[1;31mIOError\u001b[0m                                   Traceback (most recent call last)",
        "\u001b[1;32m<ipython-input-201-3222592f5f41>\u001b[0m in \u001b[0;36m<module>\u001b[1;34m()\u001b[0m\n\u001b[0;32m     11\u001b[0m     bla1 = np.fromfile(\n\u001b[0;32m     12\u001b[0m         \u001b[1;34m\"data0r\"\u001b[0m\u001b[1;33m,\u001b[0m\u001b[1;33m\u001b[0m\u001b[0m\n\u001b[1;32m---> 13\u001b[1;33m         \u001b[0mdtype\u001b[0m \u001b[1;33m=\u001b[0m \u001b[0mnp\u001b[0m\u001b[1;33m.\u001b[0m\u001b[0mfloat32\u001b[0m\u001b[1;33m)\u001b[0m\u001b[1;33m.\u001b[0m\u001b[0mreshape\u001b[0m\u001b[1;33m(\u001b[0m\u001b[0mbla\u001b[0m\u001b[1;33m.\u001b[0m\u001b[0mshape\u001b[0m\u001b[1;33m[\u001b[0m\u001b[1;36m0\u001b[0m\u001b[1;33m]\u001b[0m\u001b[1;33m,\u001b[0m\u001b[1;33m\u001b[0m\u001b[0m\n\u001b[0m\u001b[0;32m     14\u001b[0m                                     \u001b[0mbla\u001b[0m\u001b[1;33m.\u001b[0m\u001b[0mshape\u001b[0m\u001b[1;33m[\u001b[0m\u001b[1;36m1\u001b[0m\u001b[1;33m]\u001b[0m\u001b[1;33m,\u001b[0m\u001b[1;33m\u001b[0m\u001b[0m\n\u001b[0;32m     15\u001b[0m                                     (bla.shape[2]-1)*2)\n",
        "\u001b[1;31mIOError\u001b[0m: [Errno 2] No such file or directory: 'data0r'"
       ]
      }
     ],
     "prompt_number": 201
    },
    {
     "cell_type": "code",
     "collapsed": false,
     "input": [],
     "language": "python",
     "metadata": {},
     "outputs": []
    }
   ],
   "metadata": {}
  }
 ]
}